{
 "cells": [
  {
   "cell_type": "markdown",
   "metadata": {},
   "source": [
    "<h1 style=\"color:MediumBlue;\">1020. Ниточка</h1>\n",
    "\n",
    "<h4 style=\"color:MediumBlue;\">Вступление</h4>\n",
    "Злоумышленники варварски вбили в ни в чем не повинную плоскую поверхность N гвоздей, да так, что только шляпки остались. Мало того, они в своих подлых целях вбили все гвозди в вершины выпуклого многоугольника. После этого они… страшно сказать… они натянули ниточку вокруг всех гвоздей, так, что поверхности стало совсем больно! Вот как примерно они это сделали:\n",
    "<br/>\n",
    "![Фото задачи](https://acm.timus.ru/image/get.aspx/5efad458-3218-423f-b3f6-685fc554139f)\n",
    "<br/><br/>\n",
    "Ваша задача — определить длину этой ниточки.\n",
    "<h4 style=\"color:MediumBlue;\">Исходные данные</h4>\n",
    "В первой строке входа к этой задаче находятся два числа — количество гвоздей N, 1 ≤ N ≤ 16, и вещественное число R — радиус шляпок гвоздей. Все шляпки имеют одинаковый радиус. Далее на входе располагаются еще N строк, в каждой из которых записана через пробел пара вещественных координат центра очередного гвоздя; координаты не превосходят по абсолютной величине числа 100. Описания гвоздей приводятся в порядке обхода вершин многоугольника (либо по часовой стрелке, либо против часовой стрелки), начиная с произвольного. Шляпки разных гвоздей не накладываются друг на друга.\n",
    "<h4 style=\"color:MediumBlue;\">Результат</h4>\n",
    "Выведите вещественное число, округлённое до двух знаков после запятой — длину ниточки, натянутой вокруг всех гвоздей.\n",
    "<br/><br/><p>Задача доступна по <a href=\"https://acm.timus.ru/problem.aspx?space=1&num=1020\">ссылке</a></p>"
   ]
  },
  {
   "cell_type": "code",
   "execution_count": null,
   "metadata": {},
   "outputs": [],
   "source": [
    "# prev_point - координаты предыдущей точки\n",
    "# current_point - координаты текущей точки\n",
    "# end_point - координаты последней (она же начальная) точки\n",
    "# distance - длинна нити\n",
    "\n",
    "# Идея такая: мы считываем начальную точку, а далее передвигаемся к следующей\n",
    "# и ищем Евклидово расстояние между ними, и так далее.\n",
    "# В конце необходимо учесть длину нити, которая соприкасается со шляпками гвоздей.\n",
    "# Она равна длине окружности шляпки гвоздя."
   ]
  },
  {
   "cell_type": "code",
   "execution_count": null,
   "metadata": {},
   "outputs": [],
   "source": [
    "from math import pi, pow, sqrt\n",
    "from decimal import Decimal\n",
    "\n",
    "n, r = input().split()\n",
    "n, r = int(n), float(r)\n",
    "\n",
    "prev_point = [float(i) for i in input().split()]\n",
    "end_point = prev_point\n",
    "distance = 0\n",
    "\n",
    "for _ in range(n-1):\n",
    "    current_point = [float(i) for i in input().split()]\n",
    "    distance += sqrt(pow(prev_point[0] - current_point[0], 2) + pow(prev_point[1] - current_point[1], 2))\n",
    "    prev_point = current_point\n",
    "    \n",
    "distance += 2 * pi * r + sqrt(pow(prev_point[0] - end_point[0], 2) + pow(prev_point[1] - end_point[1], 2))\n",
    "\n",
    "print(Decimal(str(distance)).quantize(Decimal(\"1.00\")))"
   ]
  }
 ],
 "metadata": {
  "kernelspec": {
   "display_name": "Python 3",
   "language": "python",
   "name": "python3"
  },
  "language_info": {
   "codemirror_mode": {
    "name": "ipython",
    "version": 3
   },
   "file_extension": ".py",
   "mimetype": "text/x-python",
   "name": "python",
   "nbconvert_exporter": "python",
   "pygments_lexer": "ipython3",
   "version": "3.8.6"
  }
 },
 "nbformat": 4,
 "nbformat_minor": 4
}
