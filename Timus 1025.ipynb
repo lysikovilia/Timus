{
 "cells": [
  {
   "cell_type": "code",
   "execution_count": 2,
   "metadata": {},
   "outputs": [
    {
     "name": "stdout",
     "output_type": "stream",
     "text": [
      "3\n",
      "5 7 5\n",
      "6\n"
     ]
    }
   ],
   "source": [
    "K = int(input())\n",
    "voters_in_the_group = [int(i) for i in input().split()]\n",
    " \n",
    "voters_in_the_group.sort()\n",
    "    \n",
    "number_of_required_voters = 0\n",
    "\n",
    "for i in range(K//2+1):\n",
    "    number_of_required_voters += voters_in_the_group[i]//2+1\n",
    "    \n",
    "print(number_of_required_voters)"
   ]
  }
 ],
 "metadata": {
  "kernelspec": {
   "display_name": "Python 3",
   "language": "python",
   "name": "python3"
  },
  "language_info": {
   "codemirror_mode": {
    "name": "ipython",
    "version": 3
   },
   "file_extension": ".py",
   "mimetype": "text/x-python",
   "name": "python",
   "nbconvert_exporter": "python",
   "pygments_lexer": "ipython3",
   "version": "3.8.6"
  }
 },
 "nbformat": 4,
 "nbformat_minor": 4
}
